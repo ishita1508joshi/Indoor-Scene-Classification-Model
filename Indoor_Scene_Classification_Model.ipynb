{
  "nbformat": 4,
  "nbformat_minor": 0,
  "metadata": {
    "colab": {
      "provenance": [],
      "gpuType": "T4",
      "authorship_tag": "ABX9TyNt0ksdmGdo8kVWFatuCmU0",
      "include_colab_link": true
    },
    "kernelspec": {
      "name": "python3",
      "display_name": "Python 3"
    },
    "language_info": {
      "name": "python"
    },
    "accelerator": "GPU"
  },
  "cells": [
    {
      "cell_type": "markdown",
      "metadata": {
        "id": "view-in-github",
        "colab_type": "text"
      },
      "source": [
        "<a href=\"https://colab.research.google.com/github/ishita1508joshi/Indoor-Scene-Classification-Model/blob/main/Indoor_Scene_Classification_Model.ipynb\" target=\"_parent\"><img src=\"https://colab.research.google.com/assets/colab-badge.svg\" alt=\"Open In Colab\"/></a>"
      ]
    },
    {
      "cell_type": "code",
      "execution_count": 1,
      "metadata": {
        "id": "gOgd-g3O-mb0"
      },
      "outputs": [],
      "source": [
        "import random\n",
        "import numpy as np\n",
        "from tensorflow.keras.callbacks import TensorBoard\n",
        "import keras\n",
        "from keras import models\n",
        "from keras.layers import Dense,Dropout,Activation,Flatten,Conv2D,MaxPooling2D\n",
        "import cv2\n",
        "import time\n",
        "from google.colab import drive"
      ]
    },
    {
      "cell_type": "code",
      "source": [
        "data_path = '/content/drive/My Drive/Colab Notebooks/indoor_dataset/'\n",
        "\n",
        "drive.mount('/content/drive')"
      ],
      "metadata": {
        "colab": {
          "base_uri": "https://localhost:8080/"
        },
        "id": "_x7keERY-wMw",
        "outputId": "882264eb-ba68-4e6a-d237-d3f8c9964ce7"
      },
      "execution_count": 2,
      "outputs": [
        {
          "output_type": "stream",
          "name": "stdout",
          "text": [
            "Mounted at /content/drive\n"
          ]
        }
      ]
    },
    {
      "cell_type": "code",
      "source": [
        "categories = [\"clothingstore\",\"dining_room\",\"grocerystore\",\"kitchen\",\"library\",\"livingroom\",\"mall\",\"movietheater\",\"museum\",\"restaurant\"]"
      ],
      "metadata": {
        "id": "Sxlf7d6N_M1v"
      },
      "execution_count": 3,
      "outputs": []
    },
    {
      "cell_type": "code",
      "source": [
        "import random\n",
        "from numpy import ndarray\n",
        "import skimage as sk\n",
        "from skimage import transform\n",
        "from skimage import util\n",
        "import numpy as np\n",
        "import os\n",
        "import cv2"
      ],
      "metadata": {
        "id": "nfKQzXDa_YYC"
      },
      "execution_count": 4,
      "outputs": []
    },
    {
      "cell_type": "code",
      "source": [
        "def random_rotation(image_array: ndarray):\n",
        "    # pick a random degree of rotation between 25% on the left and 25% on the right\n",
        "    random_degree = random.uniform(-25, 25)\n",
        "    return sk.transform.rotate(image_array, random_degree)"
      ],
      "metadata": {
        "id": "NSxG3by2_aO4"
      },
      "execution_count": 5,
      "outputs": []
    },
    {
      "cell_type": "code",
      "source": [
        "def random_noise(image_array: ndarray):\n",
        "    # add random noise to the image\n",
        "    return sk.util.random_noise(image_array)"
      ],
      "metadata": {
        "id": "3liIXrnQ_csT"
      },
      "execution_count": 6,
      "outputs": []
    },
    {
      "cell_type": "code",
      "source": [
        "def horizontal_flip(image_array: ndarray):\n",
        "    # horizontal flip doesn't need skimage, it's easy as flipping the image array of pixels\n",
        "    return image_array[:, ::-1]"
      ],
      "metadata": {
        "id": "WINq8qmG_eyr"
      },
      "execution_count": 7,
      "outputs": []
    },
    {
      "cell_type": "code",
      "source": [
        "def create_training_data(categories,datadir,img_size,training_data):\n",
        "    for category in categories:\n",
        "        path = os.path.join(datadir, category) # path to categories\n",
        "        class_num = categories.index(category)\n",
        "        for img in os.listdir(path):\n",
        "            try:\n",
        "                img_array = cv2.imread(os.path.join(path,img), cv2.IMREAD_GRAYSCALE) #read image and convert to gray scale\n",
        "                new_array = cv2.resize(img_array,(img_size,img_size))\n",
        "                random_rotation(new_array)\n",
        "                training_data.append([new_array,class_num])\n",
        "                random_noise(new_array)\n",
        "                training_data.append([new_array,class_num])\n",
        "                # horizontal_flip(new_array)\n",
        "                # training_data.append([new_array,class_num])\n",
        "            except Exception as e:\n",
        "                print(\"Error creating training data\")\n",
        "                pass"
      ],
      "metadata": {
        "id": "2CYdZ0uB_gc2"
      },
      "execution_count": 8,
      "outputs": []
    },
    {
      "cell_type": "code",
      "source": [
        "img_size = 128     # resize all the images to one size\n",
        "training_data=[]\n",
        "create_training_data(categories,data_path,img_size,training_data)\n",
        "random.shuffle(training_data)\n",
        "X = []\n",
        "y = []\n",
        "for features,label in training_data:\n",
        "    X.append(features)\n",
        "    y.append(label)"
      ],
      "metadata": {
        "id": "zX_lAC5e_i1p"
      },
      "execution_count": 9,
      "outputs": []
    },
    {
      "cell_type": "code",
      "source": [
        "print(y)"
      ],
      "metadata": {
        "colab": {
          "base_uri": "https://localhost:8080/"
        },
        "id": "ZJptbl7-_lo3",
        "outputId": "edbc9339-8a20-4ad2-87f9-7140bba842d8"
      },
      "execution_count": 10,
      "outputs": [
        {
          "output_type": "stream",
          "name": "stdout",
          "text": [
            "[2, 0, 1, 2, 0, 7, 5, 1, 7, 9, 1, 8, 9, 1, 8, 5, 1, 9, 1, 9, 8, 0, 5, 9, 3, 3, 3, 3, 3, 7, 0, 3, 4, 5, 3, 5, 8, 7, 3, 7, 2, 3, 1, 3, 1, 9, 1, 1, 3, 2, 7, 9, 0, 1, 1, 2, 3, 9, 5, 8, 1, 1, 3, 9, 1, 8, 6, 3, 1, 2, 8, 2, 3, 8, 3, 2, 2, 2, 7, 3, 3, 2, 5, 0, 5, 3, 5, 1, 3, 9, 3, 5, 5, 1, 5, 9, 9, 3, 1, 8, 2, 9, 5, 2, 1, 1, 1, 1, 5, 6, 5, 9, 3, 3, 8, 2, 1, 9, 9, 3, 8, 5, 1, 2, 1, 3, 1, 9, 1, 3, 1, 9, 4, 2, 1, 3, 5, 1, 0, 3, 2, 0, 7, 5, 3, 1, 1, 3, 7, 9, 3, 2, 7, 0, 8, 5, 6, 1, 5, 9, 9, 2, 3, 3, 9, 2, 2, 1, 5, 3, 7, 3, 5, 9, 9, 3, 9, 8, 5, 3, 2, 3, 4, 2, 1, 2, 3, 9, 3, 5, 5, 5, 1, 5, 3, 2, 1, 9, 5, 6, 2, 5, 2, 8, 9, 1, 5, 1, 5, 1, 3, 0, 1, 6, 9, 5, 2, 7, 9, 3, 2, 2, 9, 3, 5, 1, 3, 3, 3, 3, 4, 5, 1, 1, 3, 0, 2, 5, 0, 1, 8, 0, 3, 5, 3, 2, 9, 1, 1, 3, 1, 2, 3, 1, 3, 1, 3, 5, 9, 5, 1, 9, 9, 2, 1, 3, 6, 5, 1, 5, 3, 1, 1, 3, 3, 2, 4, 8, 3, 4, 2, 3, 2, 0, 4, 1, 3, 5, 1, 9, 1, 2, 1, 1, 5, 1, 5, 0, 3, 9, 5, 9, 1, 0, 2, 9, 5, 2, 0, 0, 5, 3, 3, 2, 9, 9, 5, 2, 3, 1, 3, 9, 3, 3, 7, 4, 1, 1, 3, 1, 1, 1, 8, 3, 1, 1, 1, 9, 3, 3, 2, 4, 3, 2, 9, 1, 4, 3, 1, 1, 1, 9, 1, 9, 1, 9, 9, 1, 2, 2, 6, 8, 3, 9, 4, 9, 9, 6, 8, 2, 1, 2, 8, 1, 5, 0, 9, 7, 7, 1, 9, 3, 8, 4, 5, 2, 1, 5, 2, 3, 7, 2, 1, 0, 9, 1, 9, 5, 1, 7, 3, 9, 1, 1, 1, 9, 0, 3, 1, 7, 9, 5, 9, 0, 9, 3, 3, 7, 3, 1, 9, 0, 8, 7, 2, 3, 3, 9, 5, 3, 5, 1, 3, 9, 2, 3, 1, 5, 1, 5, 3, 2, 1, 1, 2, 5, 3, 1, 5, 3, 5, 1, 1, 9, 0, 1, 1, 1, 1, 7, 5, 3, 3, 5, 9, 7, 5, 9, 3, 9, 3, 9, 3, 6, 0, 1, 3, 1, 1, 1, 4, 9, 9, 7, 5, 5, 7, 9, 1, 9, 7, 5, 3, 2, 2, 1, 2, 2, 9, 1, 4, 3, 9, 1, 1, 8, 3, 3, 1, 3, 5, 1, 6, 3, 3, 2, 7, 5, 2, 3, 2, 3, 2, 4, 4, 1, 1, 5, 3, 1, 0, 2, 9, 5, 5, 7, 9, 5, 4, 1, 2, 5, 5, 9, 0, 1, 1, 5, 9, 1, 3, 1, 5, 3, 1, 5, 5, 1, 2, 2, 1, 1, 9, 2, 1, 5, 7, 2, 1, 9, 3, 5, 8, 2, 1, 3, 1, 3, 9, 3, 1, 9, 1, 5, 1, 2, 1, 3, 2, 3, 5, 1, 5, 3, 1, 5, 7, 6, 3, 5, 5, 6, 6, 3, 9, 1, 1, 1, 9, 5, 0, 5, 1, 2, 4, 9, 1, 1, 1, 5, 3, 6, 3, 6, 3, 1, 1, 0, 1, 1, 5, 3, 2, 9, 8, 8, 5, 1, 0, 1, 0, 5, 3, 5, 1, 2, 1, 9, 7, 1, 4, 5, 9, 1, 0, 9, 7, 1, 4, 5, 3, 6, 3, 5, 3, 6, 9, 9, 1, 0, 5, 2, 3, 9, 2, 5, 3, 5, 3, 4, 8, 1, 3, 3, 2, 2, 1, 0, 1, 9, 1, 1, 1, 1, 3, 3, 7, 9, 5, 1, 1, 3, 5, 1, 5, 5, 3, 9, 7, 1, 3, 2, 3, 1, 2, 3, 3, 2, 7, 0, 4, 7, 2, 3, 1, 9, 2, 3, 1, 3, 3, 5, 1, 5, 6, 2, 4, 3, 6, 0, 3, 2, 9, 1, 2, 0, 9, 3, 5, 1, 1, 9, 6, 9, 9, 0, 1, 5, 7, 1, 1, 2, 3, 1, 3, 6, 3, 5, 3, 6, 5, 4, 6, 1, 5, 1, 2, 2, 0, 1, 3, 1, 2, 4, 1, 5, 9, 1, 8, 0, 9, 7, 1, 5, 3, 4, 3, 1, 3, 2, 0, 1, 1, 1, 2, 9, 8, 3, 7, 7, 0, 1, 7, 9, 3, 1, 3, 6, 9, 2, 3, 1, 3, 7, 6, 3, 5, 3, 1, 7, 8, 9, 2, 2, 9, 5, 3, 1, 3, 1, 3, 3, 6, 5]\n"
          ]
        }
      ]
    },
    {
      "cell_type": "code",
      "source": [
        "import tensorflow\n",
        "X=np.array(X).reshape(-1,img_size,img_size,1)  #(cannot pass list directly, -1=(calculates the array size), size,1=gray scale)\n",
        "class_num=tensorflow.keras.utils.to_categorical(y,num_classes=len(categories))   #one-hot encoder for categorical values"
      ],
      "metadata": {
        "id": "KdMMaqPCAjq6"
      },
      "execution_count": 11,
      "outputs": []
    },
    {
      "cell_type": "code",
      "source": [
        "X=X/255.0"
      ],
      "metadata": {
        "id": "2f7tsEi0AmhS"
      },
      "execution_count": 12,
      "outputs": []
    },
    {
      "cell_type": "code",
      "source": [
        "dense_layers=[4]\n",
        "layer_sizes=[128]\n",
        "conv_layers=[2]"
      ],
      "metadata": {
        "id": "mLvACGKjAo_C"
      },
      "execution_count": 13,
      "outputs": []
    },
    {
      "cell_type": "code",
      "source": [
        "print(X[5])\n",
        "print(X.shape)"
      ],
      "metadata": {
        "colab": {
          "base_uri": "https://localhost:8080/"
        },
        "id": "G30Oa1c4Arf6",
        "outputId": "4c55d7fd-ee23-4ce3-996f-63f04ae701eb"
      },
      "execution_count": 14,
      "outputs": [
        {
          "output_type": "stream",
          "name": "stdout",
          "text": [
            "[[[0.18039216]\n",
            "  [0.15294118]\n",
            "  [0.12941176]\n",
            "  ...\n",
            "  [0.14901961]\n",
            "  [0.10588235]\n",
            "  [0.11372549]]\n",
            "\n",
            " [[0.09019608]\n",
            "  [0.09803922]\n",
            "  [0.10588235]\n",
            "  ...\n",
            "  [0.10588235]\n",
            "  [0.01960784]\n",
            "  [0.05098039]]\n",
            "\n",
            " [[0.10980392]\n",
            "  [0.07843137]\n",
            "  [0.04313725]\n",
            "  ...\n",
            "  [0.02745098]\n",
            "  [0.12156863]\n",
            "  [0.0627451 ]]\n",
            "\n",
            " ...\n",
            "\n",
            " [[0.10196078]\n",
            "  [0.10588235]\n",
            "  [0.10980392]\n",
            "  ...\n",
            "  [0.23137255]\n",
            "  [0.13333333]\n",
            "  [0.11372549]]\n",
            "\n",
            " [[0.10980392]\n",
            "  [0.11372549]\n",
            "  [0.10588235]\n",
            "  ...\n",
            "  [0.27058824]\n",
            "  [0.11764706]\n",
            "  [0.11372549]]\n",
            "\n",
            " [[0.12156863]\n",
            "  [0.11764706]\n",
            "  [0.10588235]\n",
            "  ...\n",
            "  [0.23529412]\n",
            "  [0.10196078]\n",
            "  [0.10980392]]]\n",
            "(844, 128, 128, 1)\n"
          ]
        }
      ]
    },
    {
      "cell_type": "code",
      "source": [
        "for dense_layer in dense_layers:\n",
        "    for layer_size in layer_sizes:\n",
        "        for conv_layer in conv_layers:\n",
        "            name = \"{}-conv-{}-nodes-{}-dense-{}\".format(conv_layer,layer_size,dense_layer,int(time.time()))\n",
        "            print(name)\n",
        "            tensorboard = TensorBoard(log_dir='C:\\Indoor Scene Recognition\\logs{}'.format(name))\n",
        "            model = models.Sequential()\n",
        "            model.add(Conv2D(layer_size,(3,3), input_shape = X.shape[1:]))\n",
        "            model.add(Activation(\"relu\"))\n",
        "            model.add(MaxPooling2D(pool_size=(2,2)))\n",
        "            for l in range(conv_layer-1):\n",
        "                model.add(Conv2D(layer_size,(3,3)))\n",
        "                model.add(Activation(\"relu\"))\n",
        "                model.add(MaxPooling2D(pool_size=(2,2)))\n",
        "            model.add(Flatten())\n",
        "            for l in range(dense_layer):\n",
        "                model.add(Dense(layer_size, activation='relu'))\n",
        "            model.add(Dropout(0.5))\n",
        "            model.add(Dense(len(categories), activation='softmax'))\n",
        "            model.compile(optimizer='adam',loss='categorical_crossentropy',metrics=['accuracy'])\n",
        "            model.fit(X, class_num, epochs=10, batch_size=32,validation_split=0.2,callbacks=[tensorboard])\n",
        "            print('model fit complete')"
      ],
      "metadata": {
        "colab": {
          "base_uri": "https://localhost:8080/"
        },
        "id": "oWjzkq36Av9e",
        "outputId": "97a5aae2-8d1c-4f54-fb4b-c8bff2ed1aa1"
      },
      "execution_count": 15,
      "outputs": [
        {
          "output_type": "stream",
          "name": "stdout",
          "text": [
            "2-conv-128-nodes-4-dense-1730201113\n"
          ]
        },
        {
          "output_type": "stream",
          "name": "stderr",
          "text": [
            "/usr/local/lib/python3.10/dist-packages/keras/src/layers/convolutional/base_conv.py:107: UserWarning: Do not pass an `input_shape`/`input_dim` argument to a layer. When using Sequential models, prefer using an `Input(shape)` object as the first layer in the model instead.\n",
            "  super().__init__(activity_regularizer=activity_regularizer, **kwargs)\n"
          ]
        },
        {
          "output_type": "stream",
          "name": "stdout",
          "text": [
            "Epoch 1/10\n",
            "\u001b[1m22/22\u001b[0m \u001b[32m━━━━━━━━━━━━━━━━━━━━\u001b[0m\u001b[37m\u001b[0m \u001b[1m16s\u001b[0m 293ms/step - accuracy: 0.1727 - loss: 2.2687 - val_accuracy: 0.2308 - val_loss: 2.0976\n",
            "Epoch 2/10\n",
            "\u001b[1m22/22\u001b[0m \u001b[32m━━━━━━━━━━━━━━━━━━━━\u001b[0m\u001b[37m\u001b[0m \u001b[1m8s\u001b[0m 48ms/step - accuracy: 0.2003 - loss: 2.0994 - val_accuracy: 0.2308 - val_loss: 2.0512\n",
            "Epoch 3/10\n",
            "\u001b[1m22/22\u001b[0m \u001b[32m━━━━━━━━━━━━━━━━━━━━\u001b[0m\u001b[37m\u001b[0m \u001b[1m1s\u001b[0m 51ms/step - accuracy: 0.2168 - loss: 2.0289 - val_accuracy: 0.2663 - val_loss: 1.9799\n",
            "Epoch 4/10\n",
            "\u001b[1m22/22\u001b[0m \u001b[32m━━━━━━━━━━━━━━━━━━━━\u001b[0m\u001b[37m\u001b[0m \u001b[1m1s\u001b[0m 53ms/step - accuracy: 0.3419 - loss: 1.9016 - val_accuracy: 0.2959 - val_loss: 1.9227\n",
            "Epoch 5/10\n",
            "\u001b[1m22/22\u001b[0m \u001b[32m━━━━━━━━━━━━━━━━━━━━\u001b[0m\u001b[37m\u001b[0m \u001b[1m2s\u001b[0m 72ms/step - accuracy: 0.3937 - loss: 1.7613 - val_accuracy: 0.4379 - val_loss: 1.7756\n",
            "Epoch 6/10\n",
            "\u001b[1m22/22\u001b[0m \u001b[32m━━━━━━━━━━━━━━━━━━━━\u001b[0m\u001b[37m\u001b[0m \u001b[1m1s\u001b[0m 62ms/step - accuracy: 0.4948 - loss: 1.4812 - val_accuracy: 0.4615 - val_loss: 1.6211\n",
            "Epoch 7/10\n",
            "\u001b[1m22/22\u001b[0m \u001b[32m━━━━━━━━━━━━━━━━━━━━\u001b[0m\u001b[37m\u001b[0m \u001b[1m2s\u001b[0m 48ms/step - accuracy: 0.6597 - loss: 0.9896 - val_accuracy: 0.6213 - val_loss: 1.2935\n",
            "Epoch 8/10\n",
            "\u001b[1m22/22\u001b[0m \u001b[32m━━━━━━━━━━━━━━━━━━━━\u001b[0m\u001b[37m\u001b[0m \u001b[1m1s\u001b[0m 50ms/step - accuracy: 0.8190 - loss: 0.5354 - val_accuracy: 0.6805 - val_loss: 1.4831\n",
            "Epoch 9/10\n",
            "\u001b[1m22/22\u001b[0m \u001b[32m━━━━━━━━━━━━━━━━━━━━\u001b[0m\u001b[37m\u001b[0m \u001b[1m1s\u001b[0m 49ms/step - accuracy: 0.9139 - loss: 0.2632 - val_accuracy: 0.7929 - val_loss: 1.1991\n",
            "Epoch 10/10\n",
            "\u001b[1m22/22\u001b[0m \u001b[32m━━━━━━━━━━━━━━━━━━━━\u001b[0m\u001b[37m\u001b[0m \u001b[1m1s\u001b[0m 52ms/step - accuracy: 0.9521 - loss: 0.1479 - val_accuracy: 0.8166 - val_loss: 1.0803\n",
            "model fit complete\n"
          ]
        }
      ]
    },
    {
      "cell_type": "code",
      "source": [
        "data_path2 = '/content/drive/My Drive/Colab Notebooks/test_dataset/'"
      ],
      "metadata": {
        "id": "ZfngLzUpAyww"
      },
      "execution_count": 16,
      "outputs": []
    },
    {
      "cell_type": "code",
      "source": [
        "def create_testing_data(categories,datadir,img_size,testing_data):\n",
        "    for category in categories:\n",
        "        path = os.path.join(datadir, category) # path to categories\n",
        "        class_num = categories.index(category)\n",
        "\n",
        "        for img in os.listdir(path):\n",
        "            try:\n",
        "                img_array = cv2.imread(os.path.join(path,img), cv2.IMREAD_GRAYSCALE) #read image and convert to gray scale\n",
        "                new_array = cv2.resize(img_array,(img_size,img_size))\n",
        "                random_rotation(new_array)\n",
        "                testing_data.append([new_array,class_num])\n",
        "                random_noise(new_array)\n",
        "                testing_data.append([new_array,class_num])\n",
        "                # horizontal_flip(new_array)\n",
        "                # training_data.append([new_array,class_num])\n",
        "            except Exception as e:\n",
        "                print(\"Error creating testing data\")\n",
        "                pass"
      ],
      "metadata": {
        "id": "1HtybVRVA1Y5"
      },
      "execution_count": 17,
      "outputs": []
    },
    {
      "cell_type": "code",
      "source": [
        "img_size = 128     # resize all the images to one size\n",
        "testing_data=[]\n",
        "create_testing_data(categories,data_path2,img_size,testing_data)\n",
        "random.shuffle(testing_data)\n",
        "X_test = []\n",
        "y_test = []\n",
        "for features,label in testing_data:\n",
        "    X_test.append(features)\n",
        "    y_test.append(label)"
      ],
      "metadata": {
        "id": "_0YxJbFcA4SD"
      },
      "execution_count": 18,
      "outputs": []
    },
    {
      "cell_type": "code",
      "source": [
        "X_test=np.array(X_test).reshape(-1,img_size,img_size,1)  #(cannot pass list directly, -1=(calculates the array size), size,1=gray scale)\n",
        "class_num=tensorflow.keras.utils.to_categorical(y_test,num_classes=len(categories))   #one-hot encoder for categorical values"
      ],
      "metadata": {
        "id": "j4eD-WeyA6uy"
      },
      "execution_count": 19,
      "outputs": []
    },
    {
      "cell_type": "code",
      "source": [
        "X_test = X_test/255.0"
      ],
      "metadata": {
        "id": "RpLnjgYNA9nt"
      },
      "execution_count": 20,
      "outputs": []
    },
    {
      "cell_type": "code",
      "source": [
        "prediction = model.predict(X_test)\n",
        "prediction = [i for sample in prediction for i in range(len(sample)) if sample[i] == max(sample)]"
      ],
      "metadata": {
        "colab": {
          "base_uri": "https://localhost:8080/"
        },
        "id": "C4typaOLBNd6",
        "outputId": "6b08bf54-bf26-4e1c-81c6-b1b8ab3fbe08"
      },
      "execution_count": 22,
      "outputs": [
        {
          "output_type": "stream",
          "name": "stdout",
          "text": [
            "\u001b[1m2/2\u001b[0m \u001b[32m━━━━━━━━━━━━━━━━━━━━\u001b[0m\u001b[37m\u001b[0m \u001b[1m1s\u001b[0m 974ms/step\n"
          ]
        }
      ]
    },
    {
      "cell_type": "code",
      "source": [
        "print(y_test)\n",
        "print(prediction)"
      ],
      "metadata": {
        "colab": {
          "base_uri": "https://localhost:8080/"
        },
        "id": "g06UJAdFBRCh",
        "outputId": "97ce35a0-b71a-4cb8-a2d8-bc01fabd3e07"
      },
      "execution_count": 23,
      "outputs": [
        {
          "output_type": "stream",
          "name": "stdout",
          "text": [
            "[2, 8, 4, 7, 2, 8, 9, 6, 3, 4, 2, 3, 3, 2, 5, 1, 0, 0, 0, 8, 3, 9, 7, 6, 4, 7, 0, 8, 1, 1, 9, 6, 6, 5, 5, 4, 1, 9, 5, 7]\n",
            "[2, 8, 4, 7, 2, 1, 9, 6, 3, 4, 2, 3, 3, 2, 5, 4, 0, 0, 0, 8, 3, 9, 7, 6, 4, 7, 0, 1, 4, 1, 9, 6, 6, 5, 5, 4, 1, 9, 5, 7]\n"
          ]
        }
      ]
    },
    {
      "cell_type": "code",
      "source": [
        "from sklearn.metrics import precision_score, recall_score, f1_score,accuracy_score, confusion_matrix\n",
        "print(accuracy_score(y_test, prediction))\n",
        "print(precision_score(y_test, prediction, average=\"weighted\"))\n",
        "print(f1_score(y_test, prediction, average=\"weighted\"))\n",
        "print(recall_score(y_test, prediction, average=\"weighted\"))\n",
        "print(confusion_matrix(y_test, prediction))"
      ],
      "metadata": {
        "colab": {
          "base_uri": "https://localhost:8080/"
        },
        "id": "z_johwRsBWxz",
        "outputId": "34256c0d-e8b3-4c53-edc9-52819b83d07a"
      },
      "execution_count": 24,
      "outputs": [
        {
          "output_type": "stream",
          "name": "stdout",
          "text": [
            "0.9\n",
            "0.9166666666666666\n",
            "0.8966666666666667\n",
            "0.9\n",
            "[[4 0 0 0 0 0 0 0 0 0]\n",
            " [0 2 0 0 2 0 0 0 0 0]\n",
            " [0 0 4 0 0 0 0 0 0 0]\n",
            " [0 0 0 4 0 0 0 0 0 0]\n",
            " [0 0 0 0 4 0 0 0 0 0]\n",
            " [0 0 0 0 0 4 0 0 0 0]\n",
            " [0 0 0 0 0 0 4 0 0 0]\n",
            " [0 0 0 0 0 0 0 4 0 0]\n",
            " [0 2 0 0 0 0 0 0 2 0]\n",
            " [0 0 0 0 0 0 0 0 0 4]]\n"
          ]
        }
      ]
    }
  ]
}